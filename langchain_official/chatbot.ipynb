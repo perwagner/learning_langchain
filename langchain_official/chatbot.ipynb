{
 "cells": [
  {
   "cell_type": "code",
   "execution_count": 6,
   "metadata": {},
   "outputs": [
    {
     "data": {
      "text/plain": [
       "True"
      ]
     },
     "execution_count": 6,
     "metadata": {},
     "output_type": "execute_result"
    }
   ],
   "source": [
    "from dotenv import load_dotenv\n",
    "from langchain.text_splitter import RecursiveCharacterTextSplitter\n",
    "from langchain_chroma import Chroma\n",
    "from langchain_community.document_loaders import WebBaseLoader\n",
    "from langchain_community.vectorstores import SKLearnVectorStore\n",
    "from langchain_core.chat_history import (BaseChatMessageHistory,\n",
    "                                         InMemoryChatMessageHistory)\n",
    "from langchain_core.messages import HumanMessage, SystemMessage\n",
    "from langchain_core.output_parsers import StrOutputParser\n",
    "from langchain_core.prompts import ChatPromptTemplate, MessagesPlaceholder\n",
    "from langchain_core.runnables.history import RunnableWithMessageHistory\n",
    "from langchain_core.tools import tool\n",
    "from langchain_nomic.embeddings import NomicEmbeddings\n",
    "from langchain_ollama.llms import OllamaLLM\n",
    "from langchain_openai import ChatOpenAI, OpenAIEmbeddings\n",
    "\n",
    "load_dotenv()"
   ]
  },
  {
   "cell_type": "code",
   "execution_count": 2,
   "metadata": {},
   "outputs": [],
   "source": [
    "model = ChatOpenAI(model=\"gpt-4o-mini\")"
   ]
  },
  {
   "cell_type": "code",
   "execution_count": 3,
   "metadata": {},
   "outputs": [],
   "source": [
    "store = dict()\n",
    "\n",
    "def get_session_history(session_id: str) -> BaseChatMessageHistory:\n",
    "    if session_id not in store:\n",
    "        store[session_id] = InMemoryChatMessageHistory()\n",
    "    return store[session_id]\n",
    "\n",
    "with_message_history = RunnableWithMessageHistory(model, get_session_history)"
   ]
  },
  {
   "cell_type": "code",
   "execution_count": 4,
   "metadata": {},
   "outputs": [
    {
     "name": "stdout",
     "output_type": "stream",
     "text": [
      "Congratulations on your new MacBook Pro 2021! It's a powerful machine with great features. If you have any questions about setting it up, using macOS, or tips for getting the most out of your new device, feel free to ask!\n"
     ]
    }
   ],
   "source": [
    "config = dict(configurable=dict(session_id=\"abc_100\"))\n",
    "\n",
    "response = with_message_history.invoke(\n",
    "    [HumanMessage(content=\"This is my new computer, it is an Apple Macbook Pro 2021\")],\n",
    "    config=config,\n",
    ")\n",
    "\n",
    "print(response.content)"
   ]
  },
  {
   "cell_type": "code",
   "execution_count": 5,
   "metadata": {},
   "outputs": [
    {
     "name": "stdout",
     "output_type": "stream",
     "text": [
      "The MacBook Pro 2021, especially with the M1 Pro or M1 Max chips, offers impressive performance and can handle many games reasonably well. However, there are a few factors to consider when evaluating it for gaming:\n",
      "\n",
      "1. **Performance**: The M1 Pro and M1 Max chips provide excellent CPU and GPU performance, allowing for good frame rates in many games, especially those that are optimized for Apple Silicon.\n",
      "\n",
      "2. **Game Library**: Many games are not natively available on macOS. While you can access some titles through platforms like Steam, Epic Games Store, or by using methods like Boot Camp (although Boot Camp is not available for M1 Macs), the selection may be limited compared to Windows PCs.\n",
      "\n",
      "3. **Graphics Settings**: While the MacBook Pro can handle some modern games at decent settings, it may struggle with the latest AAA titles on high settings. You may need to adjust the graphics settings for optimal performance.\n",
      "\n",
      "4. **Thermals**: MacBooks are designed for efficient thermal management, but prolonged gaming sessions can cause them to heat up, which might lead to throttling.\n",
      "\n",
      "5. **Battery Life**: Gaming can drain the battery quickly, so it's often best to game while plugged in.\n",
      "\n",
      "In summary, while the MacBook Pro 2021 can handle gaming fairly well, especially casual and indie titles, it may not be the best choice for dedicated gaming compared to a Windows gaming laptop or desktop. If gaming is a primary focus for you, consider these factors before diving into heavier gaming on your Mac.\n"
     ]
    }
   ],
   "source": [
    "response = with_message_history.invoke(\n",
    "    [HumanMessage(content=\"Is my computer good for gaming?\")],\n",
    "    config=config,\n",
    ")\n",
    "print(response.content)"
   ]
  },
  {
   "cell_type": "markdown",
   "metadata": {},
   "source": [
    "### Prompt templates"
   ]
  },
  {
   "cell_type": "code",
   "execution_count": 7,
   "metadata": {},
   "outputs": [],
   "source": [
    "prompt = ChatPromptTemplate.from_messages([\n",
    "    (\"system\", \"You are a financial analyst. Answer all questions in a professional manner.\"),\n",
    "    MessagesPlaceholder(variable_name=\"messages\"),\n",
    "])\n",
    "\n",
    "chain = prompt | model"
   ]
  },
  {
   "cell_type": "code",
   "execution_count": 8,
   "metadata": {},
   "outputs": [
    {
     "name": "stdout",
     "output_type": "stream",
     "text": [
      "As of my last update in October 2023, the investment landscape for 2022 had already unfolded, and several trends and sectors emerged as notable. However, when evaluating the \"best\" investment, it is essential to consider individual risk tolerance, investment goals, and time horizon. \n",
      "\n",
      "In 2022, key areas of focus included:\n",
      "\n",
      "1. **Technology Stocks**: Despite market volatility, certain technology companies, especially those involved in cloud computing, cybersecurity, and artificial intelligence, showed resilience and growth potential.\n",
      "\n",
      "2. **Energy Sector**: With rising oil prices and a shift towards renewable energy, investments in energy companies, particularly those focused on clean energy, became increasingly attractive.\n",
      "\n",
      "3. **Real Estate Investment Trusts (REITs)**: Given the low-interest-rate environment and ongoing demand in the housing market, REITs offered potential for income and capital appreciation.\n",
      "\n",
      "4. **Inflation-Protected Securities**: With inflation concerns on the rise, Treasury Inflation-Protected Securities (TIPS) became a popular option for investors seeking to safeguard their purchasing power.\n",
      "\n",
      "5. **Emerging Markets**: Some investors looked towards emerging markets for higher growth potential, particularly in sectors like technology and consumer goods.\n",
      "\n",
      "It’s crucial to remember that past performance is not indicative of future results. For personalized advice, consulting with a financial advisor who understands your specific situation and goals is highly recommended.\n"
     ]
    }
   ],
   "source": [
    "response = chain.invoke({\"messages\": [HumanMessage(content=\"What is the best investment for 2022?\")]})\n",
    "print(response.content)"
   ]
  },
  {
   "cell_type": "code",
   "execution_count": 9,
   "metadata": {},
   "outputs": [],
   "source": [
    "with_message_history = RunnableWithMessageHistory(chain, get_session_history)\n",
    "config = dict(configurable=dict(session_id=\"abc_101\"))"
   ]
  },
  {
   "cell_type": "code",
   "execution_count": 11,
   "metadata": {},
   "outputs": [
    {
     "name": "stdout",
     "output_type": "stream",
     "text": [
      "The decision to invest in stocks or bonds for retirement in 2022 depends on various factors, including your individual risk tolerance, investment horizon, and financial goals.\n",
      "\n",
      "1. **Risk Tolerance**: Stocks generally offer higher potential returns than bonds but come with greater volatility and risk. If you have a higher risk tolerance and a longer time horizon until retirement, you might prefer stocks. Conversely, if you are more risk-averse or closer to retirement, bonds may be a safer option that provides more stability and income.\n",
      "\n",
      "2. **Investment Horizon**: If you are several years away from retirement, you may benefit from the growth potential of stocks. Historically, stocks have outperformed bonds over the long term. If you are nearing retirement or already retired, bonds may provide the stability and income necessary to preserve capital.\n",
      "\n",
      "3. **Market Conditions**: In 2022, market conditions, including interest rates and inflation, played a significant role in investment decisions. Rising interest rates can negatively impact bond prices but may present opportunities in the stock market. It's essential to assess the current economic environment and how it may affect both asset classes.\n",
      "\n",
      "4. **Diversification**: A balanced approach, combining both stocks and bonds, can offer a diversified portfolio that mitigates risk while providing growth potential. This strategy is often recommended for long-term investors to weather market fluctuations.\n",
      "\n",
      "5. **Overall Financial Plan**: Consider your overall financial situation, including other investments, savings, and income sources. An integrated financial plan can help determine the right mix of stocks and bonds for your retirement strategy.\n",
      "\n",
      "In summary, there is no one-size-fits-all answer to whether stocks or bonds are better for retirement investment in 2022. Analyzing your personal circumstances and market conditions can help guide your decision. Consulting with a financial advisor can also provide tailored advice based on your specific situation.\n"
     ]
    }
   ],
   "source": [
    "response = with_message_history.invoke(\n",
    "    [\n",
    "        HumanMessage(content=\"In 2022, is it better to buy stocks or bonds for retirement investment?\")\n",
    "    ],\n",
    "    config=config,\n",
    ")\n",
    "print(response.content)"
   ]
  },
  {
   "cell_type": "code",
   "execution_count": 12,
   "metadata": {},
   "outputs": [],
   "source": [
    "prompt = ChatPromptTemplate.from_messages([\n",
    "    (\n",
    "        \"system\",\n",
    "        \"You are a financial analyst. Answer all questions in a professional manner. Answer in {language}\",\n",
    "    ),\n",
    "    MessagesPlaceholder(variable_name=\"messages\"),\n",
    "    \n",
    "])\n",
    "\n",
    "chain = prompt | model | StrOutputParser()"
   ]
  },
  {
   "cell_type": "code",
   "execution_count": 20,
   "metadata": {},
   "outputs": [
    {
     "name": "stdout",
     "output_type": "stream",
     "text": [
      "截至2022年，最佳投資選擇取決於多種因素，包括個人的風險承受能力、投資目標和市場狀況。以下是一些在2022年被認為是較佳的投資選擇：\n",
      "\n",
      "1. **指數基金或ETF**：這些投資工具能夠追蹤市場指數，提供多元化的投資組合，並且費用相對較低。\n",
      "\n",
      "2. **科技股**：隨著數字化轉型的加速，科技公司的增長潛力依然吸引許多投資者。\n",
      "\n",
      "3. **綠色能源**：隨著全球對可持續發展的重視，投資於可再生能源和相關技術的公司可能會帶來長期回報。\n",
      "\n",
      "4. **房地產**：在低利率環境下，房地產投資仍然是一個穩定的選擇，尤其是在需求強勁的地區。\n",
      "\n",
      "5. **加密貨幣**：儘管波動性較大，但一些投資者仍然對比特幣及其他加密貨幣抱有興趣。\n",
      "\n",
      "每項投資都有其風險，建議在做出投資決策之前，充分研究並考慮諮詢專業的財務顧問。\n"
     ]
    }
   ],
   "source": [
    "r = chain.invoke(\n",
    "    {\n",
    "        \"messages\": [HumanMessage(content=\"What is the best investment for 2022?\")],\n",
    "        \"language\": \"Traditional Chinese\",\n",
    "        \n",
    "    },\n",
    ")\n",
    "print(r)"
   ]
  },
  {
   "cell_type": "code",
   "execution_count": 21,
   "metadata": {},
   "outputs": [],
   "source": [
    "with_message_history = RunnableWithMessageHistory(chain, get_session_history, input_messages_key=\"messages\")\n",
    "config = dict(configurable=dict(session_id=\"abc_102\"))"
   ]
  },
  {
   "cell_type": "code",
   "execution_count": 23,
   "metadata": {},
   "outputs": [
    {
     "data": {
      "text/plain": [
       "'Selvfølgelig! Her er oversættelsen af mit tidligere svar:\\n\\nI 2022 afhænger den bedste investering af flere faktorer, herunder markedsforhold, personlig risikovillighed og investeringsmål. Generelt set har følgende investeringsmuligheder fået opmærksomhed:\\n\\n1. **Aktiemarkedet**: Selvom markedet kan være volatilt, kan investering i teknologisektoren og virksomheder relateret til vedvarende energi på lang sigt give gode afkast.\\n\\n2. **Obligationer**: For investorer med lav risikovillighed forbliver obligationer et stabilt valg, især i et miljø med stigende renter, hvor kortfristede obligationer kan være mere passende.\\n\\n3. **Ejendomsinvesteringsforeninger (REITs)**: Denne type investering kan give en stabil pengestrøm, og i perioder med stigende inflation kan værdien af fysiske aktiver også stige.\\n\\n4. **Kryptovaluta**: Selvom volatiliteten er høj, kan kryptovalutaer tilbyde potentielt højt afkast for investorer med høj risikovillighed.\\n\\n5. **Råvarer**: Råvarer som guld og olie har tendens til at klare sig godt i perioder med økonomisk usikkerhed og fungerer som en effektiv måde at beskytte sig mod inflation.\\n\\nFør du træffer nogen investeringsbeslutninger, anbefales det at konsultere en professionel finansiel rådgiver for at sikre, at investeringsstrategien passer til din økonomiske situation og mål.'"
      ]
     },
     "execution_count": 23,
     "metadata": {},
     "output_type": "execute_result"
    }
   ],
   "source": [
    "r = with_message_history.invoke(\n",
    "    {\n",
    "        \"messages\": [HumanMessage(content=\"What is the best investment for 2022?\")],\n",
    "        \"language\": \"Traditional Chinese\",\n",
    "    },\n",
    "    config=config,\n",
    ")\n",
    "r"
   ]
  },
  {
   "cell_type": "code",
   "execution_count": null,
   "metadata": {},
   "outputs": [],
   "source": [
    "r = with_message_history.invoke(\n",
    "    {\n",
    "        \"messages\": [HumanMessage(content=\"In didnt understand. can you translate the last reply?\")],\n",
    "        \"language\": \"Danish\",\n",
    "    },\n",
    "    config=config,\n",
    ")\n",
    "r"
   ]
  },
  {
   "cell_type": "code",
   "execution_count": null,
   "metadata": {},
   "outputs": [],
   "source": []
  },
  {
   "cell_type": "code",
   "execution_count": null,
   "metadata": {},
   "outputs": [],
   "source": []
  }
 ],
 "metadata": {
  "kernelspec": {
   "display_name": "venv",
   "language": "python",
   "name": "python3"
  },
  "language_info": {
   "codemirror_mode": {
    "name": "ipython",
    "version": 3
   },
   "file_extension": ".py",
   "mimetype": "text/x-python",
   "name": "python",
   "nbconvert_exporter": "python",
   "pygments_lexer": "ipython3",
   "version": "3.12.3"
  }
 },
 "nbformat": 4,
 "nbformat_minor": 2
}
