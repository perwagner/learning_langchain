{
 "cells": [
  {
   "cell_type": "code",
   "execution_count": 23,
   "metadata": {},
   "outputs": [],
   "source": [
    "from typing import List, Optional\n",
    "\n",
    "from dotenv import load_dotenv\n",
    "from langchain.text_splitter import RecursiveCharacterTextSplitter\n",
    "from langchain_anthropic import ChatAnthropic\n",
    "from langchain_chroma import Chroma\n",
    "from langchain_community.document_loaders import WebBaseLoader\n",
    "from langchain_community.tools.tavily_search import TavilySearchResults\n",
    "from langchain_community.vectorstores import SKLearnVectorStore\n",
    "from langchain_core.messages import HumanMessage, SystemMessage\n",
    "from langchain_core.output_parsers import StrOutputParser\n",
    "from langchain_core.prompts import ChatPromptTemplate, MessagesPlaceholder\n",
    "from langchain_core.pydantic_v1 import BaseModel, Field\n",
    "from langchain_core.runnables import RunnablePassthrough\n",
    "from langchain_core.tools import tool\n",
    "from langchain_nomic.embeddings import NomicEmbeddings\n",
    "from langchain_ollama.llms import OllamaLLM\n",
    "from langchain_openai import ChatOpenAI, OpenAIEmbeddings\n",
    "from langgraph.checkpoint.sqlite import SqliteSaver\n",
    "from langgraph.prebuilt import create_react_agent\n",
    "\n",
    "load_dotenv()\n",
    "\n",
    "model = ChatOpenAI(model=\"gpt-4o-mini\")"
   ]
  },
  {
   "cell_type": "code",
   "execution_count": 24,
   "metadata": {},
   "outputs": [],
   "source": [
    "class Monster(BaseModel):\n",
    "    \"\"\"Information about a monster in the Dungeons and Dragons universe.\"\"\"\n",
    "    name: Optional[str] = Field(default=None, description=\"The name of the monster.\")\n",
    "    race: Optional[str] = Field(default=None, description=\"The race of the monster, for example Orc, Goblin, Dragon, Zombie.\")\n",
    "    features: Optional[str] = Field(default=None, description=\"What the monster looks like\")\n",
    "    hit_points: Optional[int] = Field(default=None, description=\"The number of hit points the monster has.\")\n",
    "\n",
    "\n",
    "class Data(BaseModel):\n",
    "    \"\"\"Data about a monster in the Dungeons and Dragons universe.\"\"\"\n",
    "    monsters: List[Monster]"
   ]
  },
  {
   "cell_type": "markdown",
   "metadata": {},
   "source": [
    "### Extractor"
   ]
  },
  {
   "cell_type": "code",
   "execution_count": 19,
   "metadata": {},
   "outputs": [],
   "source": [
    "prompt = ChatPromptTemplate.from_messages(\n",
    "    [\n",
    "        (\n",
    "            \"system\", \"You are an expert extraction algorighm. \"\n",
    "            \"Only extract releant information from the text\"\n",
    "            \"If you do not know the value of an attribute asked to extract, \"\n",
    "            \"return null for the attribute's value\",\n",
    "        ),\n",
    "        # MessagesPlaceholder(\"examples\"),\n",
    "        (\"human\", \"{text}\"),\n",
    "    ]\n",
    ")"
   ]
  },
  {
   "cell_type": "code",
   "execution_count": 20,
   "metadata": {},
   "outputs": [],
   "source": [
    "runnable = prompt | model.with_structured_output(schema=Monster)"
   ]
  },
  {
   "cell_type": "code",
   "execution_count": 21,
   "metadata": {},
   "outputs": [
    {
     "data": {
      "text/plain": [
       "Monster(name='Goblins', race='Goblinoid', features='small and numerous, often living in underground caverns near the surface', hit_points=None)"
      ]
     },
     "execution_count": 21,
     "metadata": {},
     "output_type": "execute_result"
    }
   ],
   "source": [
    "text = \"\"\"\n",
    "Goblins were a race of small and numerous goblinoids common throughout Toril, often living in underground caverns near the surface known as lairs. The race was often, though not always, dominated by other goblinoids, most commonly hobgoblins. Goblins may have, in fact, been initially created by this related race to serve as scouts and infiltrators\n",
    "\"\"\"\n",
    "runnable.invoke({\"text\": text})"
   ]
  },
  {
   "cell_type": "code",
   "execution_count": 22,
   "metadata": {},
   "outputs": [
    {
     "data": {
      "text/plain": [
       "Monster(name='Minotaur', race='Humanoid', features='Large, muscular humanoids with the head of a bull, upper torso, hands, and body of a human, hooved feet, fur ranging from brown to black, huge and strong hands with thick sharp yellow nails, thick and long snouts, carnivore teeth, iconic curved horns, males have longer and thicker horns than females.', hit_points=None)"
      ]
     },
     "execution_count": 22,
     "metadata": {},
     "output_type": "execute_result"
    }
   ],
   "source": [
    "text = \"\"\"\n",
    "Minotaurs were large, muscular humanoids. They had the head of a bull, upper torso, hands, and the body of a human,[20] and hooved feet. Their fur and wild hair typically ranged from brown to black.[4][1] The fur often covered forearms, chest, abdomen, and legs. Males were referred to as bulls and reached up to 9 feet (2.7 meters) in height, while females – cows, were similar in appearance, with broader hips, humanoid breasts, and reached only 7 feet (2.1 meters).[16]\n",
    "\n",
    "Minotaur bodies were of similar shape and build to that of an ogre. Their hands were huge and strong, ending in thick sharp yellow nails. Minotaurs were known to use claws in battle, but they were brittle and did not survive heavy use. Despite their heads being that of a bull, there were subtle differences in features between mundane beasts and minotaurs. Some were known to have cow-like tails; however, that trait was not common. Their snouts were thicker and longer than that of an animal, and bull-men had sharp carnivore teeth. Their canines were especially noticeable, and minotaurs never hesitated to bite their victims, prey, and opponents. Lastly, unlike bovines, minotaurs' eyes were positioned closer to the center of their faces, granting them good depth perception and another telltale evidence of their predatory nature.[16]\n",
    "\n",
    "The creatures' iconic feature – their horns – were very similar to normal bulls', slightly curving forward. Both males and females had similarly shaped huge horns. However, males' were longer and thicker on average. There were several horn coloring variations, and sometimes as many as three colors could be present. Minotaurs with dark fur often had dark yellow or brown horns.[16] The shortest horns were around 1 foot (0.3 meters) and could reach up to three times that length\n",
    "\"\"\"\n",
    "runnable.invoke({\"text\": text})"
   ]
  },
  {
   "cell_type": "markdown",
   "metadata": {},
   "source": [
    "### Multiple entities"
   ]
  },
  {
   "cell_type": "code",
   "execution_count": 25,
   "metadata": {},
   "outputs": [
    {
     "data": {
      "text/plain": [
       "Data(monsters=[Monster(name='Goblin', race='Goblinoid', features='Small and numerous, often living in underground caverns, dominated by hobgoblins', hit_points=None), Monster(name='Minotaur', race='Humanoid', features='Large, muscular humanoids with the head of a bull, upper torso and body of a human, hooved feet, and fur ranging from brown to black', hit_points=None)])"
      ]
     },
     "execution_count": 25,
     "metadata": {},
     "output_type": "execute_result"
    }
   ],
   "source": [
    "runnable = prompt | model.with_structured_output(schema=Data)\n",
    "text = \"\"\"\n",
    "Goblins were a race of small and numerous goblinoids common throughout Toril, often living in underground caverns near the surface known as lairs. The race was often, though not always, dominated by other goblinoids, most commonly hobgoblins. Goblins may have, in fact, been initially created by this related race to serve as scouts and infiltrators\n",
    "\n",
    "Minotaurs were large, muscular humanoids. They had the head of a bull, upper torso, hands, and the body of a human,[20] and hooved feet. Their fur and wild hair typically ranged from brown to black.[4][1] The fur often covered forearms, chest, abdomen, and legs. Males were referred to as bulls and reached up to 9 feet (2.7 meters) in height, while females – cows, were similar in appearance, with broader hips, humanoid breasts, and reached only 7 feet (2.1 meters).[16]\n",
    "\n",
    "Minotaur bodies were of similar shape and build to that of an ogre. Their hands were huge and strong, ending in thick sharp yellow nails. Minotaurs were known to use claws in battle, but they were brittle and did not survive heavy use. Despite their heads being that of a bull, there were subtle differences in features between mundane beasts and minotaurs. Some were known to have cow-like tails; however, that trait was not common. Their snouts were thicker and longer than that of an animal, and bull-men had sharp carnivore teeth. Their canines were especially noticeable, and minotaurs never hesitated to bite their victims, prey, and opponents. Lastly, unlike bovines, minotaurs' eyes were positioned closer to the center of their faces, granting them good depth perception and another telltale evidence of their predatory nature.[16]\n",
    "\n",
    "The creatures' iconic feature – their horns – were very similar to normal bulls', slightly curving forward. Both males and females had similarly shaped huge horns. However, males' were longer and thicker on average. There were several horn coloring variations, and sometimes as many as three colors could be present. Minotaurs with dark fur often had dark yellow or brown horns.[16] The shortest horns were around 1 foot (0.3 meters) and could reach up to three times that length\n",
    "\"\"\"\n",
    "\n",
    "runnable.invoke({\"text\": text})"
   ]
  },
  {
   "cell_type": "markdown",
   "metadata": {},
   "source": [
    "### Examples\n",
    "\n",
    "https://python.langchain.com/v0.2/docs/how_to/extraction_examples/"
   ]
  },
  {
   "cell_type": "code",
   "execution_count": 26,
   "metadata": {},
   "outputs": [],
   "source": [
    "prompt = ChatPromptTemplate.from_messages(\n",
    "    [\n",
    "        (\n",
    "            \"system\", \"You are an expert extraction algorighm. \"\n",
    "            \"Only extract releant information from the text\"\n",
    "            \"If you do not know the value of an attribute asked to extract, \"\n",
    "            \"return null for the attribute's value\",\n",
    "        ),\n",
    "        MessagesPlaceholder(\"examples\"),\n",
    "        (\"human\", \"{text}\"),\n",
    "    ]\n",
    ")"
   ]
  },
  {
   "cell_type": "code",
   "execution_count": 27,
   "metadata": {},
   "outputs": [
    {
     "data": {
      "text/plain": [
       "ChatPromptValue(messages=[SystemMessage(content=\"You are an expert extraction algorighm. Only extract releant information from the textIf you do not know the value of an attribute asked to extract, return null for the attribute's value\"), HumanMessage(content='testing 1 2 3'), HumanMessage(content='Goblins were a race of small and numerous goblinoids common throughout Toril, often living in underground caverns near the surface known as lairs. The race was often, though not always, dominated by other goblinoids, most commonly hobgoblins. Goblins may have, in fact, been initially created by this related race to serve as scouts and infiltrators')])"
      ]
     },
     "execution_count": 27,
     "metadata": {},
     "output_type": "execute_result"
    }
   ],
   "source": [
    "prompt.invoke(\n",
    "    {\n",
    "        \"text\": \"Goblins were a race of small and numerous goblinoids common throughout Toril, often living in underground caverns near the surface known as lairs. The race was often, though not always, dominated by other goblinoids, most commonly hobgoblins. Goblins may have, in fact, been initially created by this related race to serve as scouts and infiltrators\",\n",
    "        \"examples\": [\n",
    "            HumanMessage(content=\"testing 1 2 3\"),\n",
    "        ],\n",
    "    }\n",
    ")"
   ]
  },
  {
   "cell_type": "code",
   "execution_count": 30,
   "metadata": {},
   "outputs": [],
   "source": [
    "examples = [\n",
    "    (\n",
    "        \"Zombies are undead creatures of the night. They are slow, cant speak and humaniod. Skeletons are also undead creatures, but they have no flesh. Both are spawend from the underworld\",\n",
    "        Data(monsters=[\n",
    "            Monster(name=\"Zombie\", race=\"Undead\", features=\"humanoid, slow and can't speak\"),\n",
    "            Monster(name=\"Skeleton\", race=\"Undead\", features=\"no flesh\"),\n",
    "        ]),\n",
    "    ),\n",
    "]\n",
    "\n",
    "messages = list()\n"
   ]
  },
  {
   "cell_type": "code",
   "execution_count": null,
   "metadata": {},
   "outputs": [],
   "source": []
  }
 ],
 "metadata": {
  "kernelspec": {
   "display_name": "venv",
   "language": "python",
   "name": "python3"
  },
  "language_info": {
   "codemirror_mode": {
    "name": "ipython",
    "version": 3
   },
   "file_extension": ".py",
   "mimetype": "text/x-python",
   "name": "python",
   "nbconvert_exporter": "python",
   "pygments_lexer": "ipython3",
   "version": "3.11.6"
  }
 },
 "nbformat": 4,
 "nbformat_minor": 2
}
