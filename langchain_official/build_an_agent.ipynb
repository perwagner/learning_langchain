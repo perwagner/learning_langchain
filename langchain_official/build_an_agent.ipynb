{
 "cells": [
  {
   "cell_type": "code",
   "execution_count": 13,
   "metadata": {},
   "outputs": [],
   "source": [
    "from dotenv import load_dotenv\n",
    "from langchain.text_splitter import RecursiveCharacterTextSplitter\n",
    "from langchain_anthropic import ChatAnthropic\n",
    "from langchain_chroma import Chroma\n",
    "from langchain_community.document_loaders import WebBaseLoader\n",
    "from langchain_community.tools.tavily_search import TavilySearchResults\n",
    "from langchain_community.vectorstores import SKLearnVectorStore\n",
    "from langchain_core.messages import HumanMessage, SystemMessage\n",
    "from langchain_core.output_parsers import StrOutputParser\n",
    "from langchain_core.prompts import ChatPromptTemplate\n",
    "from langchain_core.runnables import RunnablePassthrough\n",
    "from langchain_core.tools import tool\n",
    "from langchain_nomic.embeddings import NomicEmbeddings\n",
    "from langchain_ollama.llms import OllamaLLM\n",
    "from langchain_openai import ChatOpenAI, OpenAIEmbeddings\n",
    "from langgraph.checkpoint.sqlite import SqliteSaver\n",
    "from langgraph.prebuilt import create_react_agent\n",
    "\n",
    "load_dotenv()\n",
    "\n",
    "model = ChatOpenAI(model=\"gpt-4o-mini\")"
   ]
  },
  {
   "cell_type": "code",
   "execution_count": 2,
   "metadata": {},
   "outputs": [
    {
     "name": "stdout",
     "output_type": "stream",
     "text": [
      "{'agent': {'messages': [AIMessage(content=\"Hi Bob! It's great to meet you. How's life in San Francisco?\", response_metadata={'token_usage': {'completion_tokens': 17, 'prompt_tokens': 88, 'total_tokens': 105}, 'model_name': 'gpt-4o-mini-2024-07-18', 'system_fingerprint': 'fp_0f03d4f0ee', 'finish_reason': 'stop', 'logprobs': None}, id='run-0d4a8a9f-4902-4527-9bc0-2cdd1a1d4bf6-0', usage_metadata={'input_tokens': 88, 'output_tokens': 17, 'total_tokens': 105})]}}\n",
      "----\n",
      "{'agent': {'messages': [AIMessage(content='', additional_kwargs={'tool_calls': [{'id': 'call_7ZRQF81qzcXWs8kmjYu4nROe', 'function': {'arguments': '{\"query\":\"San Francisco weather\"}', 'name': 'tavily_search_results_json'}, 'type': 'function'}]}, response_metadata={'token_usage': {'completion_tokens': 20, 'prompt_tokens': 120, 'total_tokens': 140}, 'model_name': 'gpt-4o-mini-2024-07-18', 'system_fingerprint': 'fp_0f03d4f0ee', 'finish_reason': 'tool_calls', 'logprobs': None}, id='run-79acb197-b4d2-40f9-b333-efa5f3dde90a-0', tool_calls=[{'name': 'tavily_search_results_json', 'args': {'query': 'San Francisco weather'}, 'id': 'call_7ZRQF81qzcXWs8kmjYu4nROe', 'type': 'tool_call'}], usage_metadata={'input_tokens': 120, 'output_tokens': 20, 'total_tokens': 140})]}}\n",
      "----\n",
      "{'tools': {'messages': [ToolMessage(content='[{\"url\": \"https://www.weatherapi.com/\", \"content\": \"{\\'location\\': {\\'name\\': \\'San Francisco\\', \\'region\\': \\'California\\', \\'country\\': \\'United States of America\\', \\'lat\\': 37.78, \\'lon\\': -122.42, \\'tz_id\\': \\'America/Los_Angeles\\', \\'localtime_epoch\\': 1722496888, \\'localtime\\': \\'2024-08-01 0:21\\'}, \\'current\\': {\\'last_updated_epoch\\': 1722496500, \\'last_updated\\': \\'2024-08-01 00:15\\', \\'temp_c\\': 14.0, \\'temp_f\\': 57.1, \\'is_day\\': 0, \\'condition\\': {\\'text\\': \\'Patchy rain nearby\\', \\'icon\\': \\'//cdn.weatherapi.com/weather/64x64/night/176.png\\', \\'code\\': 1063}, \\'wind_mph\\': 7.8, \\'wind_kph\\': 12.6, \\'wind_degree\\': 250, \\'wind_dir\\': \\'WSW\\', \\'pressure_mb\\': 1014.0, \\'pressure_in\\': 29.95, \\'precip_mm\\': 0.01, \\'precip_in\\': 0.0, \\'humidity\\': 92, \\'cloud\\': 58, \\'feelslike_c\\': 13.1, \\'feelslike_f\\': 55.6, \\'windchill_c\\': 13.1, \\'windchill_f\\': 55.6, \\'heatindex_c\\': 14.0, \\'heatindex_f\\': 57.1, \\'dewpoint_c\\': 12.6, \\'dewpoint_f\\': 54.6, \\'vis_km\\': 10.0, \\'vis_miles\\': 6.0, \\'uv\\': 1.0, \\'gust_mph\\': 11.7, \\'gust_kph\\': 18.8}}\"}, {\"url\": \"https://www.meteoprog.com/weather/Sanfrancisco/month/january/\", \"content\": \"San Francisco (United States) weather in January 2024 \\\\u2600\\\\ufe0f Accurate weather forecast for San Francisco in January \\\\u26c5 Detailed forecast By month Current temperature \\\\\"near me\\\\\" Weather news \\\\u22b3 Widget of weather \\\\u22b3 Water temperature | METEOPROG.COM\"}]', name='tavily_search_results_json', tool_call_id='call_7ZRQF81qzcXWs8kmjYu4nROe')]}}\n",
      "----\n",
      "{'agent': {'messages': [AIMessage(content=\"Currently, in San Francisco, the weather is as follows:\\n\\n- **Temperature:** 14.0°C (57.1°F)\\n- **Condition:** Patchy rain nearby\\n- **Wind:** 7.8 mph (12.6 kph) from the WSW\\n- **Humidity:** 92%\\n- **Visibility:** 10 km (6 miles)\\n\\nIt seems like it's a bit rainy, so you might want to carry an umbrella if you're heading out! If you need more detailed forecasts or specifics, feel free to ask!\", response_metadata={'token_usage': {'completion_tokens': 111, 'prompt_tokens': 653, 'total_tokens': 764}, 'model_name': 'gpt-4o-mini-2024-07-18', 'system_fingerprint': 'fp_0f03d4f0ee', 'finish_reason': 'stop', 'logprobs': None}, id='run-419c796a-2781-46a4-b622-b7be93491bc3-0', usage_metadata={'input_tokens': 653, 'output_tokens': 111, 'total_tokens': 764})]}}\n",
      "----\n"
     ]
    }
   ],
   "source": [
    "memory = SqliteSaver.from_conn_string(\":memory:\")\n",
    "search = TavilySearchResults(max_results=2)\n",
    "tools = [search]\n",
    "agent_executor = create_react_agent(model, tools, checkpointer=memory)\n",
    "\n",
    "# Use the agent\n",
    "config = {\"configurable\": {\"thread_id\": \"abc123\"}}\n",
    "for chunk in agent_executor.stream({\"messages\": [HumanMessage(content=\"hi im bob! and i live in sf\")]}, config):\n",
    "    print(chunk)\n",
    "    print(\"----\")\n",
    "\n",
    "for chunk in agent_executor.stream({\"messages\": [HumanMessage(content=\"whats the weather where I live?\")]}, config):\n",
    "    print(chunk)\n",
    "    print(\"----\")"
   ]
  },
  {
   "cell_type": "code",
   "execution_count": 4,
   "metadata": {},
   "outputs": [],
   "source": [
    "search = TavilySearchResults(max_results=2)\n",
    "\n",
    "tools = [search]"
   ]
  },
  {
   "cell_type": "code",
   "execution_count": 5,
   "metadata": {},
   "outputs": [
    {
     "data": {
      "text/plain": [
       "\"Hi Bob! It's great to meet you. San Francisco is an amazing city with so much to offer. What do you love most about living there?\""
      ]
     },
     "execution_count": 5,
     "metadata": {},
     "output_type": "execute_result"
    }
   ],
   "source": [
    "response = model.invoke([\n",
    "    HumanMessage(content=\"hi im bob! and i live in sf\"),\n",
    "])\n",
    "response.content"
   ]
  },
  {
   "cell_type": "code",
   "execution_count": 6,
   "metadata": {},
   "outputs": [
    {
     "name": "stdout",
     "output_type": "stream",
     "text": [
      "ContentString: Hello! How can I assist you today?\n",
      "ToolCalls: []\n"
     ]
    }
   ],
   "source": [
    "model_with_tools = model.bind_tools(tools)\n",
    "response = model_with_tools.invoke([HumanMessage(content=\"Hi!\")])\n",
    "\n",
    "print(f\"ContentString: {response.content}\")\n",
    "print(f\"ToolCalls: {response.tool_calls}\")"
   ]
  },
  {
   "cell_type": "code",
   "execution_count": 7,
   "metadata": {},
   "outputs": [
    {
     "name": "stdout",
     "output_type": "stream",
     "text": [
      "ContentString: \n",
      "ToolCalls: [{'name': 'tavily_search_results_json', 'args': {'query': 'current weather in San Francisco'}, 'id': 'call_CQhQH7IMTDWZwxAWNIB2EJSC', 'type': 'tool_call'}]\n"
     ]
    }
   ],
   "source": [
    "response = model_with_tools.invoke([HumanMessage(content=\"What's the weather in SF?\")])\n",
    "\n",
    "print(f\"ContentString: {response.content}\")\n",
    "print(f\"ToolCalls: {response.tool_calls}\")"
   ]
  },
  {
   "cell_type": "markdown",
   "metadata": {},
   "source": [
    "### Agent"
   ]
  },
  {
   "cell_type": "code",
   "execution_count": 9,
   "metadata": {},
   "outputs": [],
   "source": [
    "agent_executor = create_react_agent(model, tools)"
   ]
  },
  {
   "cell_type": "code",
   "execution_count": 10,
   "metadata": {},
   "outputs": [
    {
     "data": {
      "text/plain": [
       "[HumanMessage(content='hi!', id='93ca3cdc-612a-4475-94e0-e2930a6123d3'),\n",
       " AIMessage(content='Hello! How can I assist you today?', response_metadata={'token_usage': {'completion_tokens': 10, 'prompt_tokens': 81, 'total_tokens': 91}, 'model_name': 'gpt-4o-mini-2024-07-18', 'system_fingerprint': 'fp_0f03d4f0ee', 'finish_reason': 'stop', 'logprobs': None}, id='run-b27f2f9b-210f-4e55-a35a-dcc9f604e2af-0', usage_metadata={'input_tokens': 81, 'output_tokens': 10, 'total_tokens': 91})]"
      ]
     },
     "execution_count": 10,
     "metadata": {},
     "output_type": "execute_result"
    }
   ],
   "source": [
    "response = agent_executor.invoke({\"messages\": [HumanMessage(content=\"hi!\")]})\n",
    "response[\"messages\"]"
   ]
  },
  {
   "cell_type": "code",
   "execution_count": 11,
   "metadata": {},
   "outputs": [
    {
     "data": {
      "text/plain": [
       "[HumanMessage(content='whats the weather in sf?', id='5f10ea39-318f-4d50-8478-7654ed80ca17'),\n",
       " AIMessage(content='', additional_kwargs={'tool_calls': [{'id': 'call_xkEKsWNb7c5dIe2jdBAhcGpr', 'function': {'arguments': '{\"query\":\"current weather in San Francisco\"}', 'name': 'tavily_search_results_json'}, 'type': 'function'}]}, response_metadata={'token_usage': {'completion_tokens': 22, 'prompt_tokens': 86, 'total_tokens': 108}, 'model_name': 'gpt-4o-mini-2024-07-18', 'system_fingerprint': 'fp_611b667b19', 'finish_reason': 'tool_calls', 'logprobs': None}, id='run-387a64c3-2795-4c27-b132-01946860977a-0', tool_calls=[{'name': 'tavily_search_results_json', 'args': {'query': 'current weather in San Francisco'}, 'id': 'call_xkEKsWNb7c5dIe2jdBAhcGpr', 'type': 'tool_call'}], usage_metadata={'input_tokens': 86, 'output_tokens': 22, 'total_tokens': 108}),\n",
       " ToolMessage(content='[{\"url\": \"https://www.weatherapi.com/\", \"content\": \"{\\'location\\': {\\'name\\': \\'San Francisco\\', \\'region\\': \\'California\\', \\'country\\': \\'United States of America\\', \\'lat\\': 37.78, \\'lon\\': -122.42, \\'tz_id\\': \\'America/Los_Angeles\\', \\'localtime_epoch\\': 1722497548, \\'localtime\\': \\'2024-08-01 0:32\\'}, \\'current\\': {\\'last_updated_epoch\\': 1722497400, \\'last_updated\\': \\'2024-08-01 00:30\\', \\'temp_c\\': 14.0, \\'temp_f\\': 57.1, \\'is_day\\': 0, \\'condition\\': {\\'text\\': \\'Patchy rain nearby\\', \\'icon\\': \\'//cdn.weatherapi.com/weather/64x64/night/176.png\\', \\'code\\': 1063}, \\'wind_mph\\': 7.8, \\'wind_kph\\': 12.6, \\'wind_degree\\': 250, \\'wind_dir\\': \\'WSW\\', \\'pressure_mb\\': 1014.0, \\'pressure_in\\': 29.95, \\'precip_mm\\': 0.01, \\'precip_in\\': 0.0, \\'humidity\\': 92, \\'cloud\\': 58, \\'feelslike_c\\': 13.1, \\'feelslike_f\\': 55.6, \\'windchill_c\\': 13.1, \\'windchill_f\\': 55.6, \\'heatindex_c\\': 14.0, \\'heatindex_f\\': 57.1, \\'dewpoint_c\\': 12.6, \\'dewpoint_f\\': 54.6, \\'vis_km\\': 10.0, \\'vis_miles\\': 6.0, \\'uv\\': 1.0, \\'gust_mph\\': 11.7, \\'gust_kph\\': 18.8}}\"}, {\"url\": \"https://www.wunderground.com/hourly/us/ca/san-francisco/date/2024-01-08\", \"content\": \"Current Weather for Popular Cities . San Francisco, CA 56 \\\\u00b0 F Mostly Cloudy; Manhattan, NY warning 40 \\\\u00b0 F Rain; Schiller Park, IL (60176) warning 37 \\\\u00b0 F Mist; Boston, MA warning 38 \\\\u00b0 F Cloudy ...\"}]', name='tavily_search_results_json', id='149ab472-7610-4dbc-9e52-8ea4c462fcbd', tool_call_id='call_xkEKsWNb7c5dIe2jdBAhcGpr'),\n",
       " AIMessage(content='The current weather in San Francisco is as follows:\\n\\n- **Temperature**: 14.0°C (57.1°F)\\n- **Condition**: Patchy rain nearby\\n- **Wind**: 7.8 mph (12.6 kph) from the WSW\\n- **Humidity**: 92%\\n- **Cloud Cover**: 58%\\n- **Visibility**: 10 km (6 miles)\\n\\nFor more detailed information, you can check [WeatherAPI](https://www.weatherapi.com/).', response_metadata={'token_usage': {'completion_tokens': 108, 'prompt_tokens': 633, 'total_tokens': 741}, 'model_name': 'gpt-4o-mini-2024-07-18', 'system_fingerprint': 'fp_0f03d4f0ee', 'finish_reason': 'stop', 'logprobs': None}, id='run-a2d663b1-6452-4ead-9b27-2e884ecacccb-0', usage_metadata={'input_tokens': 633, 'output_tokens': 108, 'total_tokens': 741})]"
      ]
     },
     "execution_count": 11,
     "metadata": {},
     "output_type": "execute_result"
    }
   ],
   "source": [
    "response = agent_executor.invoke(\n",
    "    {\"messages\": [HumanMessage(content=\"whats the weather in sf?\")]}\n",
    ")\n",
    "response[\"messages\"]"
   ]
  },
  {
   "cell_type": "code",
   "execution_count": 12,
   "metadata": {},
   "outputs": [
    {
     "name": "stdout",
     "output_type": "stream",
     "text": [
      "{'agent': {'messages': [AIMessage(content='', additional_kwargs={'tool_calls': [{'id': 'call_kiGrdkI56xYZscukZMLIfw0p', 'function': {'arguments': '{\"query\":\"current political situation in Ukraine October 2023\"}', 'name': 'tavily_search_results_json'}, 'type': 'function'}]}, response_metadata={'token_usage': {'completion_tokens': 26, 'prompt_tokens': 92, 'total_tokens': 118}, 'model_name': 'gpt-4o-mini-2024-07-18', 'system_fingerprint': 'fp_611b667b19', 'finish_reason': 'tool_calls', 'logprobs': None}, id='run-0498b91c-7b56-4669-8660-91893cc0ee19-0', tool_calls=[{'name': 'tavily_search_results_json', 'args': {'query': 'current political situation in Ukraine October 2023'}, 'id': 'call_kiGrdkI56xYZscukZMLIfw0p', 'type': 'tool_call'}], usage_metadata={'input_tokens': 92, 'output_tokens': 26, 'total_tokens': 118})]}}\n",
      "---\n",
      "{'tools': {'messages': [ToolMessage(content='[{\"url\": \"https://www.aljazeera.com/news/2023/10/29/russia-ukraine-war-list-of-key-events-day-612\", \"content\": \"Here is the situation on Sunday, October 29, 2023. ... Diplomacy and Politics. Sixty-six countries are attending Ukraine\\'s two-day peace summit which started on Saturday in Malta, ...\"}, {\"url\": \"https://www.aljazeera.com/news/2023/10/28/russia-ukraine-war-list-of-key-events-day-611\", \"content\": \"Here is the situation on Saturday, October 28, 2023. Fighting. Eight people were injured and at least 15 buildings were damaged or destroyed after Russia shelled the centre of Ukraine\\'s southern ...\"}]', name='tavily_search_results_json', tool_call_id='call_kiGrdkI56xYZscukZMLIfw0p')]}}\n",
      "---\n",
      "{'agent': {'messages': [AIMessage(content='', additional_kwargs={'tool_calls': [{'id': 'call_UJm8ucApjovR3Akss1Jjl0nx', 'function': {'arguments': '{\"query\":\"Ukraine peace summit October 2023\"}', 'name': 'tavily_search_results_json'}, 'type': 'function'}]}, response_metadata={'token_usage': {'completion_tokens': 24, 'prompt_tokens': 291, 'total_tokens': 315}, 'model_name': 'gpt-4o-mini-2024-07-18', 'system_fingerprint': 'fp_0f03d4f0ee', 'finish_reason': 'tool_calls', 'logprobs': None}, id='run-b9fe8185-bcc5-45a0-a0b1-1af920d72548-0', tool_calls=[{'name': 'tavily_search_results_json', 'args': {'query': 'Ukraine peace summit October 2023'}, 'id': 'call_UJm8ucApjovR3Akss1Jjl0nx', 'type': 'tool_call'}], usage_metadata={'input_tokens': 291, 'output_tokens': 24, 'total_tokens': 315})]}}\n",
      "---\n",
      "{'tools': {'messages': [ToolMessage(content='[{\"url\": \"https://www.reuters.com/world/europe/ukraine-holds-peace-formula-talks-malta-russia-absent-2023-10-28/\", \"content\": \"October 28, 2023 6:05 PM UTC Updated ago ... Russian-controlled Ukraine, October 26, 2023. ... to be agreement to hold a global peace summit later this year.\"}, {\"url\": \"https://en.wikipedia.org/wiki/June_2024_Ukraine_peace_summit\", \"content\": \"An international peace summit in relation to the Russo-Ukrainian War, formally called the Summit on Peace in Ukraine, ... A third meeting was organised on the weekend of 28-29 October 2023 in Malta among national security advisors from 65 states from Europe, South America, the Arab world, ...\"}]', name='tavily_search_results_json', tool_call_id='call_UJm8ucApjovR3Akss1Jjl0nx')]}}\n",
      "---\n",
      "{'agent': {'messages': [AIMessage(content=\"As of late October 2023, the political situation in Ukraine is largely focused on ongoing diplomatic efforts amidst the ongoing conflict with Russia. Here are some key points:\\n\\n1. **Peace Summit in Malta**: A significant diplomatic event is taking place in Malta, where representatives from 66 countries are attending a two-day peace summit aimed at discussing Ukraine's peace formula. This summit is part of Ukraine's ongoing efforts to garner international support and seek a resolution to the conflict. Notably, Russia is not participating in these discussions.\\n\\n2. **Continued Conflict**: Despite diplomatic efforts, the situation on the ground remains tense. Recent reports indicate that Russian shelling has resulted in injuries and damage to infrastructure in southern Ukraine, highlighting that military actions continue alongside diplomatic efforts.\\n\\n3. **International Support**: The involvement of a diverse range of nations at the peace summit underscores the international community's interest in resolving the conflict and supporting Ukraine's sovereignty.\\n\\nFor further details, you can read more about the situation through these sources: [Al Jazeera on the peace summit](https://www.aljazeera.com/news/2023/10/29/russia-ukraine-war-list-of-key-events-day-612) and [Reuters on the diplomatic talks](https://www.reuters.com/world/europe/ukraine-holds-peace-formula-talks-malta-russia-absent-2023-10-28/).\", response_metadata={'token_usage': {'completion_tokens': 286, 'prompt_tokens': 507, 'total_tokens': 793}, 'model_name': 'gpt-4o-mini-2024-07-18', 'system_fingerprint': 'fp_0f03d4f0ee', 'finish_reason': 'stop', 'logprobs': None}, id='run-27dc6320-d372-4de1-b8aa-a73cdff336ab-0', usage_metadata={'input_tokens': 507, 'output_tokens': 286, 'total_tokens': 793})]}}\n",
      "---\n"
     ]
    }
   ],
   "source": [
    "for chunk in agent_executor.stream(\n",
    "    {\"messages\": [HumanMessage(content=\"What is the political situation like in Ukraine like at the moment?\")]}\n",
    "):\n",
    "    print(chunk)\n",
    "    print(\"---\")"
   ]
  },
  {
   "cell_type": "markdown",
   "metadata": {},
   "source": [
    "### Memory"
   ]
  },
  {
   "cell_type": "code",
   "execution_count": 16,
   "metadata": {},
   "outputs": [],
   "source": [
    "memory = SqliteSaver.from_conn_string(\":memory:\")"
   ]
  },
  {
   "cell_type": "code",
   "execution_count": 17,
   "metadata": {},
   "outputs": [],
   "source": [
    "agent_executor = create_react_agent(model, tools, checkpointer=memory)"
   ]
  },
  {
   "cell_type": "code",
   "execution_count": 18,
   "metadata": {},
   "outputs": [],
   "source": [
    "config = {\"configurable\": {\"thread_id\": \"user_1000\"}}"
   ]
  },
  {
   "cell_type": "code",
   "execution_count": null,
   "metadata": {},
   "outputs": [],
   "source": []
  }
 ],
 "metadata": {
  "kernelspec": {
   "display_name": "venv",
   "language": "python",
   "name": "python3"
  },
  "language_info": {
   "codemirror_mode": {
    "name": "ipython",
    "version": 3
   },
   "file_extension": ".py",
   "mimetype": "text/x-python",
   "name": "python",
   "nbconvert_exporter": "python",
   "pygments_lexer": "ipython3",
   "version": "3.11.6"
  }
 },
 "nbformat": 4,
 "nbformat_minor": 2
}
