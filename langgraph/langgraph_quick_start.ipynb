{
 "cells": [
  {
   "cell_type": "code",
   "execution_count": 1,
   "metadata": {},
   "outputs": [
    {
     "data": {
      "text/plain": [
       "True"
      ]
     },
     "execution_count": 1,
     "metadata": {},
     "output_type": "execute_result"
    }
   ],
   "source": [
    "from dotenv import load_dotenv\n",
    "from pptx import Presentation\n",
    "\n",
    "load_dotenv()"
   ]
  },
  {
   "cell_type": "code",
   "execution_count": 2,
   "metadata": {},
   "outputs": [],
   "source": [
    "import operator\n",
    "import os\n",
    "import random\n",
    "from typing import Annotated, Sequence, TypedDict\n",
    "\n",
    "from IPython.display import Image\n",
    "from langchain_community.tools.tavily_search import TavilySearchResults\n",
    "from langchain_core.messages import (BaseMessage, HumanMessage, SystemMessage,\n",
    "                                     ToolMessage)\n",
    "from langchain_core.tools import tool\n",
    "from langchain_openai import ChatOpenAI\n",
    "from langgraph.graph import END, START, MessageGraph, StateGraph\n",
    "from langgraph.graph.message import add_messages\n",
    "from langgraph.prebuilt import ToolNode, tools_condition\n",
    "from typing_extensions import TypedDict"
   ]
  },
  {
   "cell_type": "code",
   "execution_count": 37,
   "metadata": {},
   "outputs": [],
   "source": [
    "search_tool = TavilySearchResults(max_results=2)\n",
    "\n",
    "tools = [search_tool]\n",
    "\n",
    "llm = ChatOpenAI()\n",
    "llm_with_tools = llm.bind_tools(tools)\n"
   ]
  },
  {
   "cell_type": "code",
   "execution_count": 57,
   "metadata": {},
   "outputs": [],
   "source": [
    "\n",
    "class State(TypedDict):\n",
    "    messages: Annotated[list, add_messages]\n",
    "    bullet_points: list[str]\n",
    "\n",
    "\n",
    "def chatbot(state: State):\n",
    "    print(\"--> chatbot\")\n",
    "    messages = state[\"messages\"]\n",
    "    result = llm_with_tools.invoke(messages)\n",
    "    return {\"messages\": [result]}\n",
    "\n",
    "\n",
    "\n",
    "\n",
    "search_tool_node = ToolNode(tools=[search_tool])\n"
   ]
  },
  {
   "cell_type": "code",
   "execution_count": 58,
   "metadata": {},
   "outputs": [
    {
     "data": {
      "image/jpeg": "[encoded data removed]",
      "text/plain": [
       "<IPython.core.display.Image object>"
      ]
     },
     "execution_count": 58,
     "metadata": {},
     "output_type": "execute_result"
    }
   ],
   "source": [
    "graph_builder = StateGraph(State)\n",
    "\n",
    "graph_builder.add_node(\"chatbot\", chatbot)\n",
    "graph_builder.add_node(\"search_tool\", search_tool_node)\n",
    "\n",
    "graph_builder.add_edge(START, \"chatbot\")\n",
    "graph_builder.add_edge(\"chatbot\", END)\n",
    "\n",
    "graph_builder.add_conditional_edges(\n",
    "    \"chatbot\",\n",
    "    tools_condition,\n",
    "    {\"tools\": \"search_tool\", \"__end__\": END},\n",
    ")\n",
    "graph_builder.add_edge(\"search_tool\", \"chatbot\")\n",
    "\n",
    "graph_builder.set_entry_point(\"chatbot\")\n",
    "app = graph_builder.compile()\n",
    "\n",
    "Image(app.get_graph().draw_mermaid_png())\n"
   ]
  },
  {
   "cell_type": "code",
   "execution_count": 59,
   "metadata": {},
   "outputs": [
    {
     "name": "stdout",
     "output_type": "stream",
     "text": [
      "--> chatbot\n",
      "--> chatbot\n",
      "{'messages': [SystemMessage(content='You are a powerpoint creater writing bullet points for a slide about a specific topic. \\n                  You use tools to do this. You should create just one bullet point for the slide.', id='4fa30e41-7b6c-4746-8d53-0e258866ab7e'), HumanMessage(content='modern danish history', id='4338e23c-1758-4b67-bdde-2ddad01a60a9'), AIMessage(content='', additional_kwargs={'tool_calls': [{'id': 'call_4bCdQSLfCgrRbCv5QhpkihRe', 'function': {'arguments': '{\"query\":\"modern Danish history\"}', 'name': 'tavily_search_results_json'}, 'type': 'function'}]}, response_metadata={'token_usage': {'completion_tokens': 20, 'prompt_tokens': 123, 'total_tokens': 143}, 'model_name': 'gpt-3.5-turbo-0125', 'system_fingerprint': None, 'finish_reason': 'tool_calls', 'logprobs': None}, id='run-0bc10792-d4d2-4927-ac57-36d2b878d3d6-0', tool_calls=[{'name': 'tavily_search_results_json', 'args': {'query': 'modern Danish history'}, 'id': 'call_4bCdQSLfCgrRbCv5QhpkihRe', 'type': 'tool_call'}], usage_metadata={'input_tokens': 123, 'output_tokens': 20, 'total_tokens': 143}), ToolMessage(content='[{\"url\": \"https://en.natmus.dk/organisation/management-secretariat-and-research-administration/modern-history-and-world-cultures/modern-danish-history/\", \"content\": \"The National Museum\\'s department of Modern Danish History covers Danish history from 1660 until today. All social groups in all areas of Denmark should be able to recognise their own history in the department\\'s collection and the work it undertakes with it. The many cultural-historical objects in the collection illluminate life in Denmark from ...\"}, {\"url\": \"https://designmuseum.dk/en/exhibition/danish-modern/\", \"content\": \"The exhibition \\'Danish Modern\\' unfolds the story of Danish design from the 1920s to the 1970s, focusing on the creation of some of the most iconic Danish design objects. Danish Modern is an era, a style, a national brand. The style gained popularity in the mid-20th century and quickly became popular in the West.\"}]', name='tavily_search_results_json', id='50955804-9ede-41d8-ab50-9bcbff953aa2', tool_call_id='call_4bCdQSLfCgrRbCv5QhpkihRe'), AIMessage(content=\"- The National Museum's department of Modern Danish History covers Danish history from 1660 until today, ensuring all social groups in Denmark recognize their own history in the collection. (Source: [National Museum](https://en.natmus.dk/organisation/management-secretariat-and-research-administration/modern-history-and-world-cultures/modern-danish-history/))\", response_metadata={'token_usage': {'completion_tokens': 76, 'prompt_tokens': 361, 'total_tokens': 437}, 'model_name': 'gpt-3.5-turbo-0125', 'system_fingerprint': None, 'finish_reason': 'stop', 'logprobs': None}, id='run-2df512e3-13ff-4850-a4a1-3f99ca7a555f-0', usage_metadata={'input_tokens': 361, 'output_tokens': 76, 'total_tokens': 437})]}\n"
     ]
    }
   ],
   "source": [
    "r = app.invoke({\"messages\": [\n",
    "    SystemMessage(\"\"\"You are a powerpoint creater writing bullet points for a slide about a specific topic. \n",
    "                  You use tools to do this.\"\"\"),\n",
    "    HumanMessage(\"modern danish history\"),\n",
    "]})\n",
    "\n",
    "print(r)"
   ]
  },
  {
   "cell_type": "code",
   "execution_count": 61,
   "metadata": {},
   "outputs": [
    {
     "name": "stdout",
     "output_type": "stream",
     "text": [
      "<class 'langchain_core.messages.system.SystemMessage'>\n",
      "content='You are a powerpoint creater writing bullet points for a slide about a specific topic. \\n                  You use tools to do this. You should create just one bullet point for the slide.' id='4fa30e41-7b6c-4746-8d53-0e258866ab7e'\n",
      "---\n",
      "<class 'langchain_core.messages.human.HumanMessage'>\n",
      "content='modern danish history' id='4338e23c-1758-4b67-bdde-2ddad01a60a9'\n",
      "---\n",
      "<class 'langchain_core.messages.ai.AIMessage'>\n",
      "content='' additional_kwargs={'tool_calls': [{'id': 'call_4bCdQSLfCgrRbCv5QhpkihRe', 'function': {'arguments': '{\"query\":\"modern Danish history\"}', 'name': 'tavily_search_results_json'}, 'type': 'function'}]} response_metadata={'token_usage': {'completion_tokens': 20, 'prompt_tokens': 123, 'total_tokens': 143}, 'model_name': 'gpt-3.5-turbo-0125', 'system_fingerprint': None, 'finish_reason': 'tool_calls', 'logprobs': None} id='run-0bc10792-d4d2-4927-ac57-36d2b878d3d6-0' tool_calls=[{'name': 'tavily_search_results_json', 'args': {'query': 'modern Danish history'}, 'id': 'call_4bCdQSLfCgrRbCv5QhpkihRe', 'type': 'tool_call'}] usage_metadata={'input_tokens': 123, 'output_tokens': 20, 'total_tokens': 143}\n",
      "---\n",
      "<class 'langchain_core.messages.tool.ToolMessage'>\n",
      "content='[{\"url\": \"https://en.natmus.dk/organisation/management-secretariat-and-research-administration/modern-history-and-world-cultures/modern-danish-history/\", \"content\": \"The National Museum\\'s department of Modern Danish History covers Danish history from 1660 until today. All social groups in all areas of Denmark should be able to recognise their own history in the department\\'s collection and the work it undertakes with it. The many cultural-historical objects in the collection illluminate life in Denmark from ...\"}, {\"url\": \"https://designmuseum.dk/en/exhibition/danish-modern/\", \"content\": \"The exhibition \\'Danish Modern\\' unfolds the story of Danish design from the 1920s to the 1970s, focusing on the creation of some of the most iconic Danish design objects. Danish Modern is an era, a style, a national brand. The style gained popularity in the mid-20th century and quickly became popular in the West.\"}]' name='tavily_search_results_json' id='50955804-9ede-41d8-ab50-9bcbff953aa2' tool_call_id='call_4bCdQSLfCgrRbCv5QhpkihRe'\n",
      "---\n",
      "<class 'langchain_core.messages.ai.AIMessage'>\n",
      "content=\"- The National Museum's department of Modern Danish History covers Danish history from 1660 until today, ensuring all social groups in Denmark recognize their own history in the collection. (Source: [National Museum](https://en.natmus.dk/organisation/management-secretariat-and-research-administration/modern-history-and-world-cultures/modern-danish-history/))\" response_metadata={'token_usage': {'completion_tokens': 76, 'prompt_tokens': 361, 'total_tokens': 437}, 'model_name': 'gpt-3.5-turbo-0125', 'system_fingerprint': None, 'finish_reason': 'stop', 'logprobs': None} id='run-2df512e3-13ff-4850-a4a1-3f99ca7a555f-0' usage_metadata={'input_tokens': 361, 'output_tokens': 76, 'total_tokens': 437}\n",
      "---\n"
     ]
    }
   ],
   "source": [
    "for msg in r.get(\"messages\"):\n",
    "    print(type(msg))\n",
    "    print(msg)\n",
    "    print(\"---\")\n"
   ]
  },
  {
   "cell_type": "code",
   "execution_count": 62,
   "metadata": {},
   "outputs": [
    {
     "name": "stdout",
     "output_type": "stream",
     "text": [
      "- The National Museum's department of Modern Danish History covers Danish history from 1660 until today, ensuring all social groups in Denmark recognize their own history in the collection. (Source: [National Museum](https://en.natmus.dk/organisation/management-secretariat-and-research-administration/modern-history-and-world-cultures/modern-danish-history/))\n"
     ]
    }
   ],
   "source": [
    "\n",
    "last_message = r.get(\"messages\")[-1]\n",
    "print(last_message.content)"
   ]
  },
  {
   "cell_type": "code",
   "execution_count": null,
   "metadata": {},
   "outputs": [],
   "source": []
  }
 ],
 "metadata": {
  "kernelspec": {
   "display_name": "venv",
   "language": "python",
   "name": "python3"
  },
  "language_info": {
   "codemirror_mode": {
    "name": "ipython",
    "version": 3
   },
   "file_extension": ".py",
   "mimetype": "text/x-python",
   "name": "python",
   "nbconvert_exporter": "python",
   "pygments_lexer": "ipython3",
   "version": "3.12.3"
  }
 },
 "nbformat": 4,
 "nbformat_minor": 2
}
